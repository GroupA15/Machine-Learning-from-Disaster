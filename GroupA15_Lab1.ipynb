{
  "nbformat": 4,
  "nbformat_minor": 0,
  "metadata": {
    "colab": {
      "name": "GroupA15_Lab1.ipynb",
      "provenance": [],
      "toc_visible": true,
      "include_colab_link": true
    },
    "kernelspec": {
      "name": "python3",
      "display_name": "Python 3"
    }
  },
  "cells": [
    {
      "cell_type": "markdown",
      "metadata": {
        "id": "view-in-github",
        "colab_type": "text"
      },
      "source": [
        "<a href=\"https://colab.research.google.com/github/GroupA15/Machine-Learning-from-Disaster/blob/main/GroupA15_Lab1.ipynb\" target=\"_parent\"><img src=\"https://colab.research.google.com/assets/colab-badge.svg\" alt=\"Open In Colab\"/></a>"
      ]
    },
    {
      "cell_type": "code",
      "metadata": {
        "id": "AfBfPLPXdME4"
      },
      "source": [
        "import numpy as np\r\n",
        "import pandas as pd"
      ],
      "execution_count": null,
      "outputs": []
    },
    {
      "cell_type": "code",
      "metadata": {
        "id": "FhZOPOYzgfNT"
      },
      "source": [
        "import os\r\n",
        "for dirname, _, filenames in os.walk('/kaggle/input'):\r\n",
        "  for filename in filenames:\r\n",
        "    print(os.path.join(dirname, filename))"
      ],
      "execution_count": null,
      "outputs": []
    },
    {
      "cell_type": "code",
      "metadata": {
        "id": "TCs4x2VPg71k"
      },
      "source": [
        "train_data = cd.read_csv(\"/kaggle/input/titanic/train.csv\")\r\n",
        "train_data.head()"
      ],
      "execution_count": null,
      "outputs": []
    },
    {
      "cell_type": "code",
      "metadata": {
        "id": "G0elGPIohK8g"
      },
      "source": [
        "test_data = pd.read_csv(\"/kaggle/input/titanic/test.csv\")\r\n",
        "test_data.head()"
      ],
      "execution_count": null,
      "outputs": []
    },
    {
      "cell_type": "code",
      "metadata": {
        "id": "cMGIrQAWhcjw"
      },
      "source": [
        "women = train_data.loc[train_data.Sex == 'female'][\"Survived\"]\r\n",
        "rate_woman = sum(women)/len(women)\r\n",
        "\r\n",
        "print(\"% of women who survived:\", rate_women)"
      ],
      "execution_count": null,
      "outputs": []
    },
    {
      "cell_type": "code",
      "metadata": {
        "id": "8zaQOPYxh7C7"
      },
      "source": [
        "men = train_data.loc[train_data.Sex == 'male'][\"Survived\"]\r\n",
        "rate_men = sum(men)/len(men)\r\n",
        "\r\n",
        "print(\"% of men who survived:\", rate_men)"
      ],
      "execution_count": null,
      "outputs": []
    }
  ]
}